{
  "nbformat": 4,
  "nbformat_minor": 0,
  "metadata": {
    "colab": {
      "provenance": []
    },
    "kernelspec": {
      "name": "python3",
      "display_name": "Python 3"
    },
    "language_info": {
      "name": "python"
    }
  },
  "cells": [
    {
      "cell_type": "markdown",
      "source": [
        "**Print “Hello, Mark!”.**"
      ],
      "metadata": {
        "id": "LzKKTVeWG7M4"
      }
    },
    {
      "cell_type": "code",
      "execution_count": 1,
      "metadata": {
        "colab": {
          "base_uri": "https://localhost:8080/"
        },
        "id": "kHLMovm8GvBQ",
        "outputId": "c5668b0e-51c6-47bf-937f-9ca283db509c"
      },
      "outputs": [
        {
          "output_type": "stream",
          "name": "stdout",
          "text": [
            "Hello,Mark\n"
          ]
        }
      ],
      "source": [
        "print(\"Hello,Mark\")"
      ]
    },
    {
      "cell_type": "markdown",
      "source": [
        "** Take user input for name and print a greeting.**"
      ],
      "metadata": {
        "id": "JaqBnc8mHLIo"
      }
    },
    {
      "cell_type": "code",
      "source": [
        "a=input('enter the name')\n",
        "print(\"Hello\",a)"
      ],
      "metadata": {
        "colab": {
          "base_uri": "https://localhost:8080/"
        },
        "id": "ivitIFv3HShD",
        "outputId": "19c0f2ea-f1be-4c56-fe82-c0cb97d1f569"
      },
      "execution_count": 5,
      "outputs": [
        {
          "output_type": "stream",
          "name": "stdout",
          "text": [
            "enter the nameMark\n",
            "Hello Mark\n"
          ]
        }
      ]
    },
    {
      "cell_type": "markdown",
      "source": [
        "**Swap values of two variables without using a third variable.**"
      ],
      "metadata": {
        "id": "xHBQbQlLIaR3"
      }
    },
    {
      "cell_type": "code",
      "source": [
        "a=5\n",
        "b=10\n",
        "a,b =b,a\n",
        "print(\"a =\", a)\n",
        "print(\"b =\", b)"
      ],
      "metadata": {
        "colab": {
          "base_uri": "https://localhost:8080/"
        },
        "id": "WTgMD4O4IfhY",
        "outputId": "1d76c1c3-ffb0-470f-9756-bf69b6b9e581"
      },
      "execution_count": 10,
      "outputs": [
        {
          "output_type": "stream",
          "name": "stdout",
          "text": [
            "a = 10\n",
            "b = 5\n"
          ]
        }
      ]
    },
    {
      "cell_type": "code",
      "source": [
        "#Using Arithmetic Operations\n",
        "a=5\n",
        "b=10\n",
        "a=a+b  # a=15 (5+10)\n",
        "b=a-b  #b=5  (15-10)\n",
        "a=a-b  # 15-5\n",
        "print(\"a=\" ,a)\n",
        "print(\"b=\",b)"
      ],
      "metadata": {
        "colab": {
          "base_uri": "https://localhost:8080/"
        },
        "id": "iCVjDTbCT2v2",
        "outputId": "bad321f2-4a34-464a-b242-9037ae9c3307"
      },
      "execution_count": 22,
      "outputs": [
        {
          "output_type": "stream",
          "name": "stdout",
          "text": [
            "a= 10\n",
            "b= 5\n"
          ]
        }
      ]
    },
    {
      "cell_type": "markdown",
      "source": [
        "Check if a number is even or odd."
      ],
      "metadata": {
        "id": "tn7OQCRoWYVJ"
      }
    },
    {
      "cell_type": "code",
      "source": [
        "a=int(input('enter the  check number'))\n",
        "if a% 2==0:\n",
        "  print('even')\n",
        "else:\n",
        "  print('odd')"
      ],
      "metadata": {
        "colab": {
          "base_uri": "https://localhost:8080/"
        },
        "id": "E_i96XFxWfVV",
        "outputId": "23298bf6-f282-44ab-de27-e629546fc32d"
      },
      "execution_count": 19,
      "outputs": [
        {
          "output_type": "stream",
          "name": "stdout",
          "text": [
            "enter the  check number67\n",
            "odd\n"
          ]
        }
      ]
    },
    {
      "cell_type": "markdown",
      "source": [
        "swap the two varibale using 3rd variable"
      ],
      "metadata": {
        "id": "ddspmFFlk8Pk"
      }
    },
    {
      "cell_type": "code",
      "source": [
        "a=5\n",
        "b=6\n",
        "c=a #c=5\n",
        "a=b #a=b\n",
        "b=c #b=5\n",
        "print(a)\n",
        "print(b)"
      ],
      "metadata": {
        "colab": {
          "base_uri": "https://localhost:8080/"
        },
        "id": "sUl0a4XPlHJT",
        "outputId": "17f5bdda-0836-45a3-b996-828ce0594334"
      },
      "execution_count": 23,
      "outputs": [
        {
          "output_type": "stream",
          "name": "stdout",
          "text": [
            "6\n",
            "5\n"
          ]
        }
      ]
    },
    {
      "cell_type": "markdown",
      "source": [
        "**Find the factorial of a number using a loop.**"
      ],
      "metadata": {
        "id": "X9sdwEMFpZF1"
      }
    },
    {
      "cell_type": "code",
      "source": [
        "num=int(input('enter the value here'))\n",
        "fact=1\n",
        "if num < 0:\n",
        "  print('factorial does not exist ')\n",
        "if num == 0:\n",
        "  print(\" factorial of 0 is 1\")\n",
        "if num > 0:\n",
        "  for i in range(1,num+1):\n",
        "    fact=fact*i\n",
        "\n",
        "print(fact)\n",
        "\n"
      ],
      "metadata": {
        "colab": {
          "base_uri": "https://localhost:8080/"
        },
        "id": "Vo26vD-RpchN",
        "outputId": "04c0ec8d-2aa9-4956-e3c8-eab4807ed11f"
      },
      "execution_count": 32,
      "outputs": [
        {
          "output_type": "stream",
          "name": "stdout",
          "text": [
            "enter the value here4\n",
            "24\n"
          ]
        }
      ]
    }
  ]
}