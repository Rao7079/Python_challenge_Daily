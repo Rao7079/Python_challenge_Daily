{
  "nbformat": 4,
  "nbformat_minor": 0,
  "metadata": {
    "colab": {
      "provenance": []
    },
    "kernelspec": {
      "name": "python3",
      "display_name": "Python 3"
    },
    "language_info": {
      "name": "python"
    }
  },
  "cells": [
    {
      "cell_type": "markdown",
      "source": [
        " Calculate the sum of all numbers from 1 to 100.\n"
      ],
      "metadata": {
        "id": "UDvjGPIwy-hP"
      }
    },
    {
      "cell_type": "code",
      "execution_count": 3,
      "metadata": {
        "colab": {
          "base_uri": "https://localhost:8080/"
        },
        "id": "bNAWEkDGy9HP",
        "outputId": "e3207924-396c-4081-85b9-d0ed84aed7dc"
      },
      "outputs": [
        {
          "output_type": "stream",
          "name": "stdout",
          "text": [
            "5050\n",
            "5050.0\n"
          ]
        }
      ],
      "source": [
        "#1st method\n",
        "total=0\n",
        "for i in range(1,101):\n",
        "  total+=i\n",
        "print(total)\n",
        "\n",
        "#2nd method\n",
        "\n",
        "n=100\n",
        "final=n*(n+1)/2\n",
        "print(final)"
      ]
    },
    {
      "cell_type": "markdown",
      "source": [
        " Find the largest of three numbers entered by the user.\n"
      ],
      "metadata": {
        "id": "9M3Pu19Z1Gz0"
      }
    },
    {
      "cell_type": "code",
      "source": [
        "a=int(input('enter the 1st number'))\n",
        "b=int(input('enter the 2nd number'))\n",
        "c=int(input('enter the 3rd number'))\n",
        "if a>b and a>c:\n",
        "  print(\"largest number is\",a)\n",
        "elif b>a and b>c:\n",
        "  print(\"largest number is\",b)\n",
        "else:\n",
        "  print(\"largest number is\",c)\n",
        "\n",
        "#new method by using max function\n",
        "\n",
        "a=int(input('enter the 1st number'))\n",
        "b=int(input('enter the 2nd number'))\n",
        "c=int(input('enter the 3rd number'))\n",
        "largest=max(a,b,c)\n",
        "print('largest numbeer is',largest)"
      ],
      "metadata": {
        "colab": {
          "base_uri": "https://localhost:8080/"
        },
        "id": "igYs5clu4lso",
        "outputId": "7bd01511-65b1-4d84-922e-667d34dc23da"
      },
      "execution_count": 10,
      "outputs": [
        {
          "output_type": "stream",
          "name": "stdout",
          "text": [
            "enter the 1st number12\n",
            "enter the 2nd number34\n",
            "enter the 3rd number2\n",
            "largest number is 34\n",
            "enter the 1st number12\n",
            "enter the 2nd number34\n",
            "enter the 3rd number45\n",
            "largest numbeer is 45\n"
          ]
        }
      ]
    },
    {
      "cell_type": "markdown",
      "source": [
        "Reverse a string without using slicing\n"
      ],
      "metadata": {
        "id": "rL9NKnXz7WIH"
      }
    },
    {
      "cell_type": "code",
      "source": [
        "s=input('enter the string: ')  #with slicing\n",
        "rev=s[::-1]\n",
        "print(rev)\n",
        "\n",
        "#without slicing\n",
        "username=input('enter the word: ')\n",
        "rusername=''\n",
        "for i in username:\n",
        "  rusername=i+rusername\n",
        "print(rusername)"
      ],
      "metadata": {
        "colab": {
          "base_uri": "https://localhost:8080/"
        },
        "id": "pUiLzK3M7eVW",
        "outputId": "9c78c983-0f3f-45ca-999a-d3e1c2afbf2c"
      },
      "execution_count": 14,
      "outputs": [
        {
          "output_type": "stream",
          "name": "stdout",
          "text": [
            "enter the string: mark\n",
            "kram\n",
            "enter the word: tala\n",
            "alat\n"
          ]
        }
      ]
    },
    {
      "cell_type": "markdown",
      "source": [
        "Count vowels in a string"
      ],
      "metadata": {
        "id": "42HpVQISOFOh"
      }
    },
    {
      "cell_type": "code",
      "source": [
        "a='mango'\n",
        "vowels='aeiouAEIOU'\n",
        "count=0\n",
        "for i in a:\n",
        "  if i in vowels:\n",
        "    count +=1\n",
        "print(count)"
      ],
      "metadata": {
        "colab": {
          "base_uri": "https://localhost:8080/"
        },
        "id": "Hp0PZWL8ONOO",
        "outputId": "93af632b-547c-43f9-d923-a56a7f36f915"
      },
      "execution_count": 16,
      "outputs": [
        {
          "output_type": "stream",
          "name": "stdout",
          "text": [
            "2\n"
          ]
        }
      ]
    },
    {
      "cell_type": "markdown",
      "source": [
        "  Check if a string is a palindrome."
      ],
      "metadata": {
        "id": "pO6eSdc9PK-U"
      }
    },
    {
      "cell_type": "code",
      "source": [
        "s=input('enter the string ')\n",
        "if s==s[::-1]:\n",
        "  print(\"yes, palindrome\")\n",
        "else:\n",
        "  print(\"No\")"
      ],
      "metadata": {
        "colab": {
          "base_uri": "https://localhost:8080/"
        },
        "id": "xk4niuMWP0Cj",
        "outputId": "e456ca6a-6569-4a26-f2aa-44a56cb59853"
      },
      "execution_count": 18,
      "outputs": [
        {
          "output_type": "stream",
          "name": "stdout",
          "text": [
            "enter the string mnaa\n",
            "No\n"
          ]
        }
      ]
    }
  ]
}