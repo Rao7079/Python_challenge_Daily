{
  "nbformat": 4,
  "nbformat_minor": 0,
  "metadata": {
    "colab": {
      "provenance": []
    },
    "kernelspec": {
      "name": "python3",
      "display_name": "Python 3"
    },
    "language_info": {
      "name": "python"
    }
  },
  "cells": [
    {
      "cell_type": "markdown",
      "source": [
        " Create a list of 10 numbers. Print only even numbers."
      ],
      "metadata": {
        "id": "IYKZu97uhxdC"
      }
    },
    {
      "cell_type": "code",
      "execution_count": 1,
      "metadata": {
        "colab": {
          "base_uri": "https://localhost:8080/"
        },
        "id": "AbVYoFOxhFuN",
        "outputId": "5e1c2fe7-fd10-4288-c190-808a2a53986f"
      },
      "outputs": [
        {
          "output_type": "stream",
          "name": "stdout",
          "text": [
            "2\n",
            "4\n",
            "6\n",
            "8\n",
            "10\n"
          ]
        }
      ],
      "source": [
        "a=[1,2,3,4,5,6,7,8,9,10]\n",
        "for i in a:\n",
        "  if i%2==0:\n",
        "    print(i)"
      ]
    },
    {
      "cell_type": "code",
      "source": [
        "import random\n",
        "nums = random.sample(range(1,20), 10)   # repeat nahi hoga\n",
        "nums\n"
      ],
      "metadata": {
        "colab": {
          "base_uri": "https://localhost:8080/"
        },
        "id": "N41s-x-sjty5",
        "outputId": "2918fcd8-d688-4827-ac13-845ce90c0221"
      },
      "execution_count": 13,
      "outputs": [
        {
          "output_type": "execute_result",
          "data": {
            "text/plain": [
              "[4, 1, 12, 11, 18, 15, 5, 17, 13, 10]"
            ]
          },
          "metadata": {},
          "execution_count": 13
        }
      ]
    },
    {
      "cell_type": "code",
      "source": [
        "for i in nums:\n",
        "  if i% 2==0:\n",
        "    print (i)\n",
        "\n"
      ],
      "metadata": {
        "colab": {
          "base_uri": "https://localhost:8080/"
        },
        "id": "pZn-lB-ij_BB",
        "outputId": "c6f1c98e-2925-4fbb-c67d-9fedf1907d32"
      },
      "execution_count": 14,
      "outputs": [
        {
          "output_type": "stream",
          "name": "stdout",
          "text": [
            "4\n",
            "12\n",
            "18\n",
            "10\n"
          ]
        }
      ]
    },
    {
      "cell_type": "markdown",
      "source": [
        " Find the sum and average of numbers in a list.\n"
      ],
      "metadata": {
        "id": "KZfKRxJokfYO"
      }
    },
    {
      "cell_type": "code",
      "source": [
        "a=[2,1,4,6,8,7]\n",
        "total=0\n",
        "for i in a:\n",
        "  total+=i\n",
        "print(total)\n",
        "print(total%len(a))"
      ],
      "metadata": {
        "colab": {
          "base_uri": "https://localhost:8080/"
        },
        "id": "N5QOmorFkh6U",
        "outputId": "d8e56d8c-cc1d-498e-981f-63efbdedb202"
      },
      "execution_count": 21,
      "outputs": [
        {
          "output_type": "stream",
          "name": "stdout",
          "text": [
            "28\n",
            "4\n"
          ]
        }
      ]
    },
    {
      "cell_type": "code",
      "source": [
        "a = [2,1,4,6,8,7]\n",
        "tp = sum(a)\n",
        "print(\"sum\",tp)\n",
        "print(\"avg\",tp%len(a))\n"
      ],
      "metadata": {
        "colab": {
          "base_uri": "https://localhost:8080/"
        },
        "id": "U9q8WtysmUKv",
        "outputId": "0ddf78f4-225c-40e8-c20b-617f8cc8dba7"
      },
      "execution_count": 31,
      "outputs": [
        {
          "output_type": "stream",
          "name": "stdout",
          "text": [
            "sum 28\n",
            "avg 4\n"
          ]
        }
      ]
    },
    {
      "cell_type": "markdown",
      "source": [
        "Find the largest and smallest number in a list without using\n"
      ],
      "metadata": {
        "id": "TV9zZnE5oi2I"
      }
    },
    {
      "cell_type": "code",
      "source": [
        "#with the help of max min\n",
        "a=[2,4,6]\n",
        "mx=max(a)\n",
        "mn=min(a)\n",
        "print(mn)\n",
        "print(mx)"
      ],
      "metadata": {
        "colab": {
          "base_uri": "https://localhost:8080/"
        },
        "id": "gV97PdYkoRgd",
        "outputId": "2387624a-66c6-4964-e26e-af6e8f27cba4"
      },
      "execution_count": 38,
      "outputs": [
        {
          "output_type": "stream",
          "name": "stdout",
          "text": [
            "2\n",
            "6\n"
          ]
        }
      ]
    },
    {
      "cell_type": "code",
      "source": [
        "a=[2,4,6,1]\n",
        "mx=a[0]\n",
        "mn=a[0]\n",
        "for i in a:\n",
        "  if i>mx:\n",
        "    mx=i\n",
        "for i in a:\n",
        "  if i<mn:\n",
        "    mn=i\n",
        "print(mn)\n",
        "print(mx)"
      ],
      "metadata": {
        "colab": {
          "base_uri": "https://localhost:8080/"
        },
        "id": "t3Ge_q04qBvX",
        "outputId": "71137ba6-e801-467b-8736-18ec650dadbe"
      },
      "execution_count": 53,
      "outputs": [
        {
          "output_type": "stream",
          "name": "stdout",
          "text": [
            "1\n",
            "6\n"
          ]
        }
      ]
    },
    {
      "cell_type": "markdown",
      "source": [
        "find unique value and duplicate value"
      ],
      "metadata": {
        "id": "Hh3L3cIJ2PRC"
      }
    },
    {
      "cell_type": "code",
      "source": [
        "\n",
        "a=[1,2,3,2,4,5,1]\n",
        "uni=[]\n",
        "dup=[]\n",
        "for i in a:\n",
        "  if i not in uni:\n",
        "    uni.append(i)\n",
        "  elif i not in dup:\n",
        "    dup.append(i)\n",
        "print(uni)\n",
        "print(dup)\n"
      ],
      "metadata": {
        "colab": {
          "base_uri": "https://localhost:8080/"
        },
        "id": "aD3xq4QNzYn4",
        "outputId": "f0e6e726-28df-4d78-fb30-f251a05ed1b9"
      },
      "execution_count": 64,
      "outputs": [
        {
          "output_type": "stream",
          "name": "stdout",
          "text": [
            "[1, 2, 3, 4, 5]\n",
            "[2, 1]\n"
          ]
        }
      ]
    },
    {
      "cell_type": "code",
      "source": [
        "#this is the sort code to find the unnique or remove duplicate value\n",
        "a = [2,4,6,1,4,2]\n",
        "a_unique = list(set(a))\n",
        "print(a_unique)\n"
      ],
      "metadata": {
        "colab": {
          "base_uri": "https://localhost:8080/"
        },
        "id": "262039gc2YcM",
        "outputId": "f11454d4-7c8d-4391-843d-c6bbf83d90a2"
      },
      "execution_count": 70,
      "outputs": [
        {
          "output_type": "stream",
          "name": "stdout",
          "text": [
            "[1, 2, 4, 6]\n"
          ]
        }
      ]
    }
  ]
}