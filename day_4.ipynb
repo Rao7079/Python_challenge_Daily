{
  "nbformat": 4,
  "nbformat_minor": 0,
  "metadata": {
    "colab": {
      "provenance": []
    },
    "kernelspec": {
      "name": "python3",
      "display_name": "Python 3"
    },
    "language_info": {
      "name": "python"
    }
  },
  "cells": [
    {
      "cell_type": "markdown",
      "source": [
        "Merge two lists and sort them.\n"
      ],
      "metadata": {
        "id": "VCUaevntT6UC"
      }
    },
    {
      "cell_type": "code",
      "execution_count": 27,
      "metadata": {
        "colab": {
          "base_uri": "https://localhost:8080/"
        },
        "id": "Jy1QSQAxT2hv",
        "outputId": "0f8424c3-cfbe-4403-9749-20636f9d623b"
      },
      "outputs": [
        {
          "output_type": "stream",
          "name": "stdout",
          "text": [
            "[9, 2, 4, 3, 5, 7, 1, 6]\n"
          ]
        },
        {
          "output_type": "execute_result",
          "data": {
            "text/plain": [
              "[1, 2, 3, 4, 5, 6, 7, 9]"
            ]
          },
          "metadata": {},
          "execution_count": 27
        }
      ],
      "source": [
        "#1st method\n",
        "a=[9,2,4,3]\n",
        "b=[5,7,1,6]\n",
        "c=a+b\n",
        "print(c)\n",
        "c.sort()\n",
        "c"
      ]
    },
    {
      "cell_type": "code",
      "source": [
        "#2nd method\n",
        "a=[9,2,4,3]\n",
        "b=[5,7,1,6]\n",
        "for i in b:\n",
        "  a.append(i)\n",
        "a.sort()\n",
        "a\n"
      ],
      "metadata": {
        "colab": {
          "base_uri": "https://localhost:8080/"
        },
        "id": "QrYejwqkXhsM",
        "outputId": "795b6b3a-2f47-4bfa-9b8d-b3b276614f2f"
      },
      "execution_count": 25,
      "outputs": [
        {
          "output_type": "execute_result",
          "data": {
            "text/plain": [
              "[1, 2, 3, 4, 5, 6, 7, 9]"
            ]
          },
          "metadata": {},
          "execution_count": 25
        }
      ]
    },
    {
      "cell_type": "code",
      "source": [
        "#3rd method\n",
        "a=[9,2,4,3]\n",
        "b=[5,7,1,6]\n",
        "c=sorted(a+b)\n",
        "c"
      ],
      "metadata": {
        "colab": {
          "base_uri": "https://localhost:8080/"
        },
        "id": "h9NHr9qeXm6O",
        "outputId": "9a74afc3-1114-4d6d-b29e-cbca1ded7a2d"
      },
      "execution_count": 28,
      "outputs": [
        {
          "output_type": "execute_result",
          "data": {
            "text/plain": [
              "[1, 2, 3, 4, 5, 6, 7, 9]"
            ]
          },
          "metadata": {},
          "execution_count": 28
        }
      ]
    },
    {
      "cell_type": "markdown",
      "source": [
        " Count how many times a certain element appears in a list"
      ],
      "metadata": {
        "id": "v7bI6lzfX46o"
      }
    },
    {
      "cell_type": "code",
      "source": [
        "a=[7,4,7,2,4,3,5,4]\n",
        "count=0\n",
        "for i in a:\n",
        "  if i==4:\n",
        "    count=count+1\n",
        "\n",
        "print(count)"
      ],
      "metadata": {
        "colab": {
          "base_uri": "https://localhost:8080/"
        },
        "id": "8wyFhARAX7y8",
        "outputId": "13232261-be05-41fb-94fa-cb18c20234f3"
      },
      "execution_count": 43,
      "outputs": [
        {
          "output_type": "stream",
          "name": "stdout",
          "text": [
            "3\n"
          ]
        }
      ]
    },
    {
      "cell_type": "markdown",
      "source": [
        "Create a list of squares of numbers from 1 to 20"
      ],
      "metadata": {
        "id": "6O7pagJMbf88"
      }
    },
    {
      "cell_type": "code",
      "source": [
        "square=[]\n",
        "a=[1,2,3,4,5,6,7,8,9,10,11,12,13,14,15,16,17,18,19,20]\n",
        "for i in a:\n",
        "  square.append(i*i)\n",
        "print(square)"
      ],
      "metadata": {
        "colab": {
          "base_uri": "https://localhost:8080/"
        },
        "id": "MvuH7WjEbjcD",
        "outputId": "d01e34b6-c023-42ad-87fb-f73c2e0412e2"
      },
      "execution_count": 49,
      "outputs": [
        {
          "output_type": "stream",
          "name": "stdout",
          "text": [
            "[1, 4, 9, 16, 25, 36, 49, 64, 81, 100, 121, 144, 169, 196, 225, 256, 289, 324, 361, 400]\n"
          ]
        }
      ]
    },
    {
      "cell_type": "markdown",
      "source": [
        "Print all odd numbers between 1 and 100."
      ],
      "metadata": {
        "id": "0hOYXCRCfcSe"
      }
    },
    {
      "cell_type": "code",
      "source": [
        "prime=[]\n",
        "for i in range(1,101):\n",
        "  if i%2 !=0:\n",
        "    prime.append(i)\n",
        "print(prime)"
      ],
      "metadata": {
        "colab": {
          "base_uri": "https://localhost:8080/"
        },
        "id": "I1umLHWvfdCA",
        "outputId": "06091d7c-7c38-48ef-bf4b-c3dfcf64b0b6"
      },
      "execution_count": 65,
      "outputs": [
        {
          "output_type": "stream",
          "name": "stdout",
          "text": [
            "[1, 3, 5, 7, 9, 11, 13, 15, 17, 19, 21, 23, 25, 27, 29, 31, 33, 35, 37, 39, 41, 43, 45, 47, 49, 51, 53, 55, 57, 59, 61, 63, 65, 67, 69, 71, 73, 75, 77, 79, 81, 83, 85, 87, 89, 91, 93, 95, 97, 99]\n"
          ]
        }
      ]
    },
    {
      "cell_type": "code",
      "source": [
        "for i in range(1,11):\n",
        "  if i %2 !=0:\n",
        "    print(i)"
      ],
      "metadata": {
        "colab": {
          "base_uri": "https://localhost:8080/"
        },
        "id": "Dt-nwNnahaEy",
        "outputId": "d917a867-8d6c-4d56-94e8-2b19a7955a7e"
      },
      "execution_count": 67,
      "outputs": [
        {
          "output_type": "stream",
          "name": "stdout",
          "text": [
            "1\n",
            "3\n",
            "5\n",
            "7\n",
            "9\n"
          ]
        }
      ]
    }
  ]
}